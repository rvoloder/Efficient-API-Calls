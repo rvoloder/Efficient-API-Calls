{
 "cells": [
  {
   "cell_type": "code",
   "execution_count": 20,
   "id": "bfea95bf",
   "metadata": {},
   "outputs": [],
   "source": [
    "import numpy as np\n",
    "import pandas as pd\n",
    "import matplotlib.pyplot as plt\n",
    "import seaborn as sns\n",
    "import os, json, math, time\n",
    "from yelpapi import YelpAPI\n",
    "from tqdm.notebook import tqdm_notebook"
   ]
  },
  {
   "cell_type": "code",
   "execution_count": 21,
   "id": "48bb520b",
   "metadata": {},
   "outputs": [],
   "source": [
    "with open('/Users/rijavoloder/.secret/yelp_api.json') as f:  \n",
    "    login = json.load(f)\n",
    "yelp_api = YelpAPI(login['api-key'], timeout_s=5.0)"
   ]
  },
  {
   "cell_type": "code",
   "execution_count": 22,
   "id": "a192963e",
   "metadata": {},
   "outputs": [],
   "source": [
    "LOCATION = 'San Diego, CA,92103'\n",
    "TERM = 'Tacos'"
   ]
  },
  {
   "cell_type": "code",
   "execution_count": 23,
   "id": "5344f8ba",
   "metadata": {},
   "outputs": [
    {
     "data": {
      "text/plain": [
       "'Data/results_in_progress_tacos.json'"
      ]
     },
     "execution_count": 23,
     "metadata": {},
     "output_type": "execute_result"
    }
   ],
   "source": [
    "JSON_FILE = f\"Data/results_in_progress_tacos.json\"\n",
    "JSON_FILE"
   ]
  },
  {
   "cell_type": "code",
   "execution_count": 24,
   "id": "2a673564",
   "metadata": {},
   "outputs": [
    {
     "name": "stdout",
     "output_type": "stream",
     "text": [
      "[i] Data/results_in_progress_tacos.json not found. Saving empty list to file.\n"
     ]
    }
   ],
   "source": [
    "file_exists = os.path.isfile(JSON_FILE)\n",
    "\n",
    "if file_exists == False:\n",
    "    folder = os.path.dirname(JSON_FILE)\n",
    "    if len(folder)>0:\n",
    "        os.makedirs(folder,exist_ok=True)\n",
    "    print(f\"[i] {JSON_FILE} not found. Saving empty list to file.\")\n",
    "    with open(JSON_FILE,'w') as f:\n",
    "        json.dump([],f) \n",
    "else:\n",
    "    print(f\"[i] {JSON_FILE} already exists.\")"
   ]
  },
  {
   "cell_type": "code",
   "execution_count": 25,
   "id": "46f3f345",
   "metadata": {},
   "outputs": [
    {
     "name": "stdout",
     "output_type": "stream",
     "text": [
      "- 0 previous results found.\n"
     ]
    }
   ],
   "source": [
    "with open(JSON_FILE,'r') as f:\n",
    "    previous_results = json.load(f)\n",
    "n_results = len(previous_results)\n",
    "print(f'- {n_results} previous results found.')"
   ]
  },
  {
   "cell_type": "code",
   "execution_count": 26,
   "id": "77836bd7",
   "metadata": {},
   "outputs": [
    {
     "data": {
      "text/plain": [
       "dict_keys(['businesses', 'total', 'region'])"
      ]
     },
     "execution_count": 26,
     "metadata": {},
     "output_type": "execute_result"
    }
   ],
   "source": [
    "results = yelp_api.search_query(location=LOCATION,\n",
    "                                term=TERM,\n",
    "                               offset=n_results)\n",
    "results.keys()"
   ]
  },
  {
   "cell_type": "code",
   "execution_count": 27,
   "id": "c4ae003e",
   "metadata": {},
   "outputs": [
    {
     "data": {
      "text/plain": [
       "1600"
      ]
     },
     "execution_count": 27,
     "metadata": {},
     "output_type": "execute_result"
    }
   ],
   "source": [
    "total_results = results['total']\n",
    "total_results"
   ]
  },
  {
   "cell_type": "code",
   "execution_count": 28,
   "id": "9224b158",
   "metadata": {},
   "outputs": [
    {
     "data": {
      "text/plain": [
       "20"
      ]
     },
     "execution_count": 28,
     "metadata": {},
     "output_type": "execute_result"
    }
   ],
   "source": [
    "results_per_page = len(results['businesses'])\n",
    "results_per_page"
   ]
  },
  {
   "cell_type": "code",
   "execution_count": 29,
   "id": "255e16c1",
   "metadata": {},
   "outputs": [
    {
     "data": {
      "text/plain": [
       "80"
      ]
     },
     "execution_count": 29,
     "metadata": {},
     "output_type": "execute_result"
    }
   ],
   "source": [
    "n_pages = math.ceil((results['total']-n_results)/ results_per_page)\n",
    "n_pages"
   ]
  },
  {
   "cell_type": "code",
   "execution_count": 30,
   "id": "7fd02b63",
   "metadata": {},
   "outputs": [],
   "source": [
    "previous_results.extend(results['businesses'])  \n",
    "with open(JSON_FILE,'w') as f:\n",
    "     json.dump(previous_results,f)"
   ]
  },
  {
   "cell_type": "code",
   "execution_count": 31,
   "id": "f55afdb1",
   "metadata": {},
   "outputs": [
    {
     "data": {
      "application/vnd.jupyter.widget-view+json": {
       "model_id": "6cc214531add4bcb8425dab379ab3e34",
       "version_major": 2,
       "version_minor": 0
      },
      "text/plain": [
       "  0%|          | 0/80 [00:00<?, ?it/s]"
      ]
     },
     "metadata": {},
     "output_type": "display_data"
    }
   ],
   "source": [
    "import time\n",
    "for i in tqdm_notebook(range(n_pages)):\n",
    "    time.sleep(.2)"
   ]
  },
  {
   "cell_type": "code",
   "execution_count": 32,
   "id": "f2a1b7a6",
   "metadata": {},
   "outputs": [
    {
     "data": {
      "application/vnd.jupyter.widget-view+json": {
       "model_id": "0f4925f05e7945ffaeef0a4092aa1c23",
       "version_major": 2,
       "version_minor": 0
      },
      "text/plain": [
       "  0%|          | 0/80 [00:00<?, ?it/s]"
      ]
     },
     "metadata": {},
     "output_type": "display_data"
    },
    {
     "ename": "YelpAPIError",
     "evalue": "VALIDATION_ERROR: Too many results requested, limit+offset must be <= 1000.",
     "output_type": "error",
     "traceback": [
      "\u001b[0;31m---------------------------------------------------------------------------\u001b[0m",
      "\u001b[0;31mYelpAPIError\u001b[0m                              Traceback (most recent call last)",
      "\u001b[0;32m/var/folders/cg/8l1bbvq9513686c_gq8w9v0w0000gn/T/ipykernel_86617/1666993754.py\u001b[0m in \u001b[0;36m<module>\u001b[0;34m\u001b[0m\n\u001b[1;32m      6\u001b[0m     results = yelp_api.search_query(location=LOCATION,\n\u001b[1;32m      7\u001b[0m                                     \u001b[0mterm\u001b[0m\u001b[0;34m=\u001b[0m\u001b[0mTERM\u001b[0m\u001b[0;34m,\u001b[0m\u001b[0;34m\u001b[0m\u001b[0;34m\u001b[0m\u001b[0m\n\u001b[0;32m----> 8\u001b[0;31m                                     offset=n_results)\n\u001b[0m\u001b[1;32m      9\u001b[0m     \u001b[0mprevious_results\u001b[0m\u001b[0;34m.\u001b[0m\u001b[0mextend\u001b[0m\u001b[0;34m(\u001b[0m\u001b[0mresults\u001b[0m\u001b[0;34m[\u001b[0m\u001b[0;34m'businesses'\u001b[0m\u001b[0;34m]\u001b[0m\u001b[0;34m)\u001b[0m\u001b[0;34m\u001b[0m\u001b[0;34m\u001b[0m\u001b[0m\n\u001b[1;32m     10\u001b[0m     \u001b[0;32mwith\u001b[0m \u001b[0mopen\u001b[0m\u001b[0;34m(\u001b[0m\u001b[0mJSON_FILE\u001b[0m\u001b[0;34m,\u001b[0m\u001b[0;34m'w'\u001b[0m\u001b[0;34m)\u001b[0m \u001b[0;32mas\u001b[0m \u001b[0mf\u001b[0m\u001b[0;34m:\u001b[0m\u001b[0;34m\u001b[0m\u001b[0;34m\u001b[0m\u001b[0m\n",
      "\u001b[0;32m~/opt/anaconda3/envs/dojo-env/lib/python3.7/site-packages/yelpapi/yelpapi.py\u001b[0m in \u001b[0;36msearch_query\u001b[0;34m(self, **kwargs)\u001b[0m\n\u001b[1;32m    232\u001b[0m                              '(parameters \"latitude\" and \"longitude\") must be provided.')\n\u001b[1;32m    233\u001b[0m \u001b[0;34m\u001b[0m\u001b[0m\n\u001b[0;32m--> 234\u001b[0;31m         \u001b[0;32mreturn\u001b[0m \u001b[0mself\u001b[0m\u001b[0;34m.\u001b[0m\u001b[0m_query\u001b[0m\u001b[0;34m(\u001b[0m\u001b[0mSEARCH_API_URL\u001b[0m\u001b[0;34m,\u001b[0m \u001b[0;34m**\u001b[0m\u001b[0mkwargs\u001b[0m\u001b[0;34m)\u001b[0m\u001b[0;34m\u001b[0m\u001b[0;34m\u001b[0m\u001b[0m\n\u001b[0m\u001b[1;32m    235\u001b[0m \u001b[0;34m\u001b[0m\u001b[0m\n\u001b[1;32m    236\u001b[0m     \u001b[0;32mdef\u001b[0m \u001b[0mtransaction_search_query\u001b[0m\u001b[0;34m(\u001b[0m\u001b[0mself\u001b[0m\u001b[0;34m,\u001b[0m \u001b[0mtransaction_type\u001b[0m\u001b[0;34m,\u001b[0m \u001b[0;34m**\u001b[0m\u001b[0mkwargs\u001b[0m\u001b[0;34m)\u001b[0m\u001b[0;34m:\u001b[0m\u001b[0;34m\u001b[0m\u001b[0;34m\u001b[0m\u001b[0m\n",
      "\u001b[0;32m~/opt/anaconda3/envs/dojo-env/lib/python3.7/site-packages/yelpapi/yelpapi.py\u001b[0m in \u001b[0;36m_query\u001b[0;34m(self, url, **kwargs)\u001b[0m\n\u001b[1;32m    281\u001b[0m         \u001b[0;32mif\u001b[0m \u001b[0;34m'error'\u001b[0m \u001b[0;32min\u001b[0m \u001b[0mresponse_json\u001b[0m\u001b[0;34m:\u001b[0m\u001b[0;34m\u001b[0m\u001b[0;34m\u001b[0m\u001b[0m\n\u001b[1;32m    282\u001b[0m             raise YelpAPI.YelpAPIError('{}: {}'.format(response_json['error']['code'],\n\u001b[0;32m--> 283\u001b[0;31m                                                        response_json['error']['description']))\n\u001b[0m\u001b[1;32m    284\u001b[0m \u001b[0;34m\u001b[0m\u001b[0m\n\u001b[1;32m    285\u001b[0m         \u001b[0;31m# we got a good response, so return\u001b[0m\u001b[0;34m\u001b[0m\u001b[0;34m\u001b[0m\u001b[0;34m\u001b[0m\u001b[0m\n",
      "\u001b[0;31mYelpAPIError\u001b[0m: VALIDATION_ERROR: Too many results requested, limit+offset must be <= 1000."
     ]
    }
   ],
   "source": [
    "for i in tqdm_notebook( range(1,n_pages+1)):\n",
    "    time.sleep(.2)\n",
    "    with open(JSON_FILE, 'r') as f:\n",
    "        previous_results = json.load(f)\n",
    "    n_results = len(previous_results)\n",
    "    results = yelp_api.search_query(location=LOCATION,\n",
    "                                    term=TERM, \n",
    "                                    offset=n_results)\n",
    "    previous_results.extend(results['businesses'])\n",
    "    with open(JSON_FILE,'w') as f:\n",
    "        json.dump(previous_results,f)"
   ]
  },
  {
   "cell_type": "code",
   "execution_count": 33,
   "id": "f994ea50",
   "metadata": {},
   "outputs": [
    {
     "data": {
      "text/html": [
       "<div>\n",
       "<style scoped>\n",
       "    .dataframe tbody tr th:only-of-type {\n",
       "        vertical-align: middle;\n",
       "    }\n",
       "\n",
       "    .dataframe tbody tr th {\n",
       "        vertical-align: top;\n",
       "    }\n",
       "\n",
       "    .dataframe thead th {\n",
       "        text-align: right;\n",
       "    }\n",
       "</style>\n",
       "<table border=\"1\" class=\"dataframe\">\n",
       "  <thead>\n",
       "    <tr style=\"text-align: right;\">\n",
       "      <th></th>\n",
       "      <th>id</th>\n",
       "      <th>alias</th>\n",
       "      <th>name</th>\n",
       "      <th>image_url</th>\n",
       "      <th>is_closed</th>\n",
       "      <th>url</th>\n",
       "      <th>review_count</th>\n",
       "      <th>categories</th>\n",
       "      <th>rating</th>\n",
       "      <th>coordinates</th>\n",
       "      <th>transactions</th>\n",
       "      <th>price</th>\n",
       "      <th>location</th>\n",
       "      <th>phone</th>\n",
       "      <th>display_phone</th>\n",
       "      <th>distance</th>\n",
       "    </tr>\n",
       "  </thead>\n",
       "  <tbody>\n",
       "    <tr>\n",
       "      <th>0</th>\n",
       "      <td>EGj92CH6mWFiRvHB1zyMAw</td>\n",
       "      <td>lucha-libre-gourmet-taco-shop-san-diego</td>\n",
       "      <td>Lucha Libre Gourmet Taco Shop</td>\n",
       "      <td>https://s3-media4.fl.yelpcdn.com/bphoto/Gn4lpp...</td>\n",
       "      <td>False</td>\n",
       "      <td>https://www.yelp.com/biz/lucha-libre-gourmet-t...</td>\n",
       "      <td>8105</td>\n",
       "      <td>[{'alias': 'mexican', 'title': 'Mexican'}]</td>\n",
       "      <td>4.0</td>\n",
       "      <td>{'latitude': 32.743229, 'longitude': -117.181628}</td>\n",
       "      <td>[delivery, pickup]</td>\n",
       "      <td>$$</td>\n",
       "      <td>{'address1': '1810 W Washington St', 'address2...</td>\n",
       "      <td>+16192968226</td>\n",
       "      <td>(619) 296-8226</td>\n",
       "      <td>1094.036360</td>\n",
       "    </tr>\n",
       "    <tr>\n",
       "      <th>1</th>\n",
       "      <td>wL7Z4NJakeQ4yz9GSWki0A</td>\n",
       "      <td>ortizs-taco-shop-san-diego</td>\n",
       "      <td>Ortiz's Taco Shop</td>\n",
       "      <td>https://s3-media2.fl.yelpcdn.com/bphoto/mo9e1M...</td>\n",
       "      <td>False</td>\n",
       "      <td>https://www.yelp.com/biz/ortizs-taco-shop-san-...</td>\n",
       "      <td>656</td>\n",
       "      <td>[{'alias': 'mexican', 'title': 'Mexican'}, {'a...</td>\n",
       "      <td>4.5</td>\n",
       "      <td>{'latitude': 32.74049, 'longitude': -117.22903}</td>\n",
       "      <td>[delivery]</td>\n",
       "      <td>$</td>\n",
       "      <td>{'address1': '3704 Voltaire St', 'address2': '...</td>\n",
       "      <td>+16192224476</td>\n",
       "      <td>(619) 222-4476</td>\n",
       "      <td>5514.722095</td>\n",
       "    </tr>\n",
       "    <tr>\n",
       "      <th>2</th>\n",
       "      <td>ssJJPFuV6tTDgHYe2w9csQ</td>\n",
       "      <td>oscars-mexican-seafood-san-diego-3</td>\n",
       "      <td>Oscars Mexican Seafood</td>\n",
       "      <td>https://s3-media1.fl.yelpcdn.com/bphoto/nmtXm1...</td>\n",
       "      <td>False</td>\n",
       "      <td>https://www.yelp.com/biz/oscars-mexican-seafoo...</td>\n",
       "      <td>3164</td>\n",
       "      <td>[{'alias': 'mexican', 'title': 'Mexican'}, {'a...</td>\n",
       "      <td>4.5</td>\n",
       "      <td>{'latitude': 32.808189, 'longitude': -117.260846}</td>\n",
       "      <td>[delivery, pickup]</td>\n",
       "      <td>$</td>\n",
       "      <td>{'address1': '703 Turquoise St', 'address2': N...</td>\n",
       "      <td>+18584886392</td>\n",
       "      <td>(858) 488-6392</td>\n",
       "      <td>10978.546115</td>\n",
       "    </tr>\n",
       "    <tr>\n",
       "      <th>3</th>\n",
       "      <td>jjkHyoBlzNMnHJNXwyxsJQ</td>\n",
       "      <td>the-taco-stand-san-diego-6</td>\n",
       "      <td>The Taco Stand</td>\n",
       "      <td>https://s3-media3.fl.yelpcdn.com/bphoto/yvKAkw...</td>\n",
       "      <td>False</td>\n",
       "      <td>https://www.yelp.com/biz/the-taco-stand-san-di...</td>\n",
       "      <td>637</td>\n",
       "      <td>[{'alias': 'mexican', 'title': 'Mexican'}, {'a...</td>\n",
       "      <td>4.0</td>\n",
       "      <td>{'latitude': 32.7411646431234, 'longitude': -1...</td>\n",
       "      <td>[delivery, pickup]</td>\n",
       "      <td>$</td>\n",
       "      <td>{'address1': '3000 Upas St', 'address2': 'Ste ...</td>\n",
       "      <td>+16197958797</td>\n",
       "      <td>(619) 795-8797</td>\n",
       "      <td>3820.802448</td>\n",
       "    </tr>\n",
       "    <tr>\n",
       "      <th>4</th>\n",
       "      <td>c2iFpIROV9OVK3wd24J0Tw</td>\n",
       "      <td>la-vecindad-neighborhood-tacos-san-diego-2</td>\n",
       "      <td>La Vecindad Neighborhood Tacos</td>\n",
       "      <td>https://s3-media3.fl.yelpcdn.com/bphoto/Cm9oF2...</td>\n",
       "      <td>False</td>\n",
       "      <td>https://www.yelp.com/biz/la-vecindad-neighborh...</td>\n",
       "      <td>1171</td>\n",
       "      <td>[{'alias': 'tacos', 'title': 'Tacos'}, {'alias...</td>\n",
       "      <td>4.5</td>\n",
       "      <td>{'latitude': 32.7476563, 'longitude': -117.160...</td>\n",
       "      <td>[delivery]</td>\n",
       "      <td>$$</td>\n",
       "      <td>{'address1': '3827 5th Ave', 'address2': '', '...</td>\n",
       "      <td>+16195012885</td>\n",
       "      <td>(619) 501-2885</td>\n",
       "      <td>978.184779</td>\n",
       "    </tr>\n",
       "  </tbody>\n",
       "</table>\n",
       "</div>"
      ],
      "text/plain": [
       "                       id                                       alias  \\\n",
       "0  EGj92CH6mWFiRvHB1zyMAw     lucha-libre-gourmet-taco-shop-san-diego   \n",
       "1  wL7Z4NJakeQ4yz9GSWki0A                  ortizs-taco-shop-san-diego   \n",
       "2  ssJJPFuV6tTDgHYe2w9csQ          oscars-mexican-seafood-san-diego-3   \n",
       "3  jjkHyoBlzNMnHJNXwyxsJQ                  the-taco-stand-san-diego-6   \n",
       "4  c2iFpIROV9OVK3wd24J0Tw  la-vecindad-neighborhood-tacos-san-diego-2   \n",
       "\n",
       "                             name  \\\n",
       "0   Lucha Libre Gourmet Taco Shop   \n",
       "1               Ortiz's Taco Shop   \n",
       "2          Oscars Mexican Seafood   \n",
       "3                  The Taco Stand   \n",
       "4  La Vecindad Neighborhood Tacos   \n",
       "\n",
       "                                           image_url  is_closed  \\\n",
       "0  https://s3-media4.fl.yelpcdn.com/bphoto/Gn4lpp...      False   \n",
       "1  https://s3-media2.fl.yelpcdn.com/bphoto/mo9e1M...      False   \n",
       "2  https://s3-media1.fl.yelpcdn.com/bphoto/nmtXm1...      False   \n",
       "3  https://s3-media3.fl.yelpcdn.com/bphoto/yvKAkw...      False   \n",
       "4  https://s3-media3.fl.yelpcdn.com/bphoto/Cm9oF2...      False   \n",
       "\n",
       "                                                 url  review_count  \\\n",
       "0  https://www.yelp.com/biz/lucha-libre-gourmet-t...          8105   \n",
       "1  https://www.yelp.com/biz/ortizs-taco-shop-san-...           656   \n",
       "2  https://www.yelp.com/biz/oscars-mexican-seafoo...          3164   \n",
       "3  https://www.yelp.com/biz/the-taco-stand-san-di...           637   \n",
       "4  https://www.yelp.com/biz/la-vecindad-neighborh...          1171   \n",
       "\n",
       "                                          categories  rating  \\\n",
       "0         [{'alias': 'mexican', 'title': 'Mexican'}]     4.0   \n",
       "1  [{'alias': 'mexican', 'title': 'Mexican'}, {'a...     4.5   \n",
       "2  [{'alias': 'mexican', 'title': 'Mexican'}, {'a...     4.5   \n",
       "3  [{'alias': 'mexican', 'title': 'Mexican'}, {'a...     4.0   \n",
       "4  [{'alias': 'tacos', 'title': 'Tacos'}, {'alias...     4.5   \n",
       "\n",
       "                                         coordinates        transactions  \\\n",
       "0  {'latitude': 32.743229, 'longitude': -117.181628}  [delivery, pickup]   \n",
       "1    {'latitude': 32.74049, 'longitude': -117.22903}          [delivery]   \n",
       "2  {'latitude': 32.808189, 'longitude': -117.260846}  [delivery, pickup]   \n",
       "3  {'latitude': 32.7411646431234, 'longitude': -1...  [delivery, pickup]   \n",
       "4  {'latitude': 32.7476563, 'longitude': -117.160...          [delivery]   \n",
       "\n",
       "  price                                           location         phone  \\\n",
       "0    $$  {'address1': '1810 W Washington St', 'address2...  +16192968226   \n",
       "1     $  {'address1': '3704 Voltaire St', 'address2': '...  +16192224476   \n",
       "2     $  {'address1': '703 Turquoise St', 'address2': N...  +18584886392   \n",
       "3     $  {'address1': '3000 Upas St', 'address2': 'Ste ...  +16197958797   \n",
       "4    $$  {'address1': '3827 5th Ave', 'address2': '', '...  +16195012885   \n",
       "\n",
       "    display_phone      distance  \n",
       "0  (619) 296-8226   1094.036360  \n",
       "1  (619) 222-4476   5514.722095  \n",
       "2  (858) 488-6392  10978.546115  \n",
       "3  (619) 795-8797   3820.802448  \n",
       "4  (619) 501-2885    978.184779  "
      ]
     },
     "metadata": {},
     "output_type": "display_data"
    },
    {
     "data": {
      "text/html": [
       "<div>\n",
       "<style scoped>\n",
       "    .dataframe tbody tr th:only-of-type {\n",
       "        vertical-align: middle;\n",
       "    }\n",
       "\n",
       "    .dataframe tbody tr th {\n",
       "        vertical-align: top;\n",
       "    }\n",
       "\n",
       "    .dataframe thead th {\n",
       "        text-align: right;\n",
       "    }\n",
       "</style>\n",
       "<table border=\"1\" class=\"dataframe\">\n",
       "  <thead>\n",
       "    <tr style=\"text-align: right;\">\n",
       "      <th></th>\n",
       "      <th>id</th>\n",
       "      <th>alias</th>\n",
       "      <th>name</th>\n",
       "      <th>image_url</th>\n",
       "      <th>is_closed</th>\n",
       "      <th>url</th>\n",
       "      <th>review_count</th>\n",
       "      <th>categories</th>\n",
       "      <th>rating</th>\n",
       "      <th>coordinates</th>\n",
       "      <th>transactions</th>\n",
       "      <th>price</th>\n",
       "      <th>location</th>\n",
       "      <th>phone</th>\n",
       "      <th>display_phone</th>\n",
       "      <th>distance</th>\n",
       "    </tr>\n",
       "  </thead>\n",
       "  <tbody>\n",
       "    <tr>\n",
       "      <th>995</th>\n",
       "      <td>RtReZMiKX5lw7PRt76w6xg</td>\n",
       "      <td>beaumonts-la-jolla-2</td>\n",
       "      <td>Beaumont's</td>\n",
       "      <td>https://s3-media2.fl.yelpcdn.com/bphoto/X21oO0...</td>\n",
       "      <td>False</td>\n",
       "      <td>https://www.yelp.com/biz/beaumonts-la-jolla-2?...</td>\n",
       "      <td>719</td>\n",
       "      <td>[{'alias': 'bars', 'title': 'Bars'}, {'alias':...</td>\n",
       "      <td>4.0</td>\n",
       "      <td>{'latitude': 32.81503, 'longitude': -117.27065}</td>\n",
       "      <td>[delivery]</td>\n",
       "      <td>$$</td>\n",
       "      <td>{'address1': '5662 La Jolla Blvd', 'address2':...</td>\n",
       "      <td>+18584590474</td>\n",
       "      <td>(858) 459-0474</td>\n",
       "      <td>12169.155575</td>\n",
       "    </tr>\n",
       "    <tr>\n",
       "      <th>996</th>\n",
       "      <td>1gs4dAufjVCWH9vpRSmblA</td>\n",
       "      <td>el-pollo-loco-san-diego-15</td>\n",
       "      <td>El Pollo Loco</td>\n",
       "      <td>https://s3-media2.fl.yelpcdn.com/bphoto/64Pu4U...</td>\n",
       "      <td>False</td>\n",
       "      <td>https://www.yelp.com/biz/el-pollo-loco-san-die...</td>\n",
       "      <td>105</td>\n",
       "      <td>[{'alias': 'mexican', 'title': 'Mexican'}, {'a...</td>\n",
       "      <td>3.0</td>\n",
       "      <td>{'latitude': 32.76997834510157, 'longitude': -...</td>\n",
       "      <td>[delivery]</td>\n",
       "      <td>$</td>\n",
       "      <td>{'address1': '2017 Camino Del Este', 'address2...</td>\n",
       "      <td>+16196881189</td>\n",
       "      <td>(619) 688-1189</td>\n",
       "      <td>3743.852801</td>\n",
       "    </tr>\n",
       "    <tr>\n",
       "      <th>997</th>\n",
       "      <td>AewH2IkKMYO6pmQKz1x7vQ</td>\n",
       "      <td>barefoot-bar-and-grill-san-diego</td>\n",
       "      <td>Barefoot Bar &amp; Grill</td>\n",
       "      <td>https://s3-media4.fl.yelpcdn.com/bphoto/4uTm_c...</td>\n",
       "      <td>False</td>\n",
       "      <td>https://www.yelp.com/biz/barefoot-bar-and-gril...</td>\n",
       "      <td>704</td>\n",
       "      <td>[{'alias': 'newamerican', 'title': 'American (...</td>\n",
       "      <td>3.5</td>\n",
       "      <td>{'latitude': 32.7741342997751, 'longitude': -1...</td>\n",
       "      <td>[delivery, pickup]</td>\n",
       "      <td>$$</td>\n",
       "      <td>{'address1': '1404 Vacation Rd', 'address2': '...</td>\n",
       "      <td>+18585815960</td>\n",
       "      <td>(858) 581-5960</td>\n",
       "      <td>7299.931004</td>\n",
       "    </tr>\n",
       "    <tr>\n",
       "      <th>998</th>\n",
       "      <td>nhRT2MHx3nRi6olICNHIEg</td>\n",
       "      <td>san-diego-pier-cafe-san-diego</td>\n",
       "      <td>San Diego Pier Cafe</td>\n",
       "      <td>https://s3-media3.fl.yelpcdn.com/bphoto/xhEt2d...</td>\n",
       "      <td>False</td>\n",
       "      <td>https://www.yelp.com/biz/san-diego-pier-cafe-s...</td>\n",
       "      <td>850</td>\n",
       "      <td>[{'alias': 'seafood', 'title': 'Seafood'}, {'a...</td>\n",
       "      <td>3.0</td>\n",
       "      <td>{'latitude': 32.7112551, 'longitude': -117.170...</td>\n",
       "      <td>[delivery]</td>\n",
       "      <td>$$</td>\n",
       "      <td>{'address1': '885 W Harbor Dr', 'address2': ''...</td>\n",
       "      <td>+16192393968</td>\n",
       "      <td>(619) 239-3968</td>\n",
       "      <td>4049.464766</td>\n",
       "    </tr>\n",
       "    <tr>\n",
       "      <th>999</th>\n",
       "      <td>D3RkEG1FblpTWbr7AnGCuA</td>\n",
       "      <td>palominos-mexican-and-seafood-san-diego-2</td>\n",
       "      <td>Palominos Mexican &amp; Seafood</td>\n",
       "      <td>https://s3-media3.fl.yelpcdn.com/bphoto/VHBfi8...</td>\n",
       "      <td>False</td>\n",
       "      <td>https://www.yelp.com/biz/palominos-mexican-and...</td>\n",
       "      <td>264</td>\n",
       "      <td>[{'alias': 'mexican', 'title': 'Mexican'}, {'a...</td>\n",
       "      <td>3.5</td>\n",
       "      <td>{'latitude': 32.830780507853056, 'longitude': ...</td>\n",
       "      <td>[delivery]</td>\n",
       "      <td>$</td>\n",
       "      <td>{'address1': '9353 Clairemont Mesa Blvd', 'add...</td>\n",
       "      <td>+18582928470</td>\n",
       "      <td>(858) 292-8470</td>\n",
       "      <td>10286.474158</td>\n",
       "    </tr>\n",
       "  </tbody>\n",
       "</table>\n",
       "</div>"
      ],
      "text/plain": [
       "                         id                                      alias  \\\n",
       "995  RtReZMiKX5lw7PRt76w6xg                       beaumonts-la-jolla-2   \n",
       "996  1gs4dAufjVCWH9vpRSmblA                 el-pollo-loco-san-diego-15   \n",
       "997  AewH2IkKMYO6pmQKz1x7vQ           barefoot-bar-and-grill-san-diego   \n",
       "998  nhRT2MHx3nRi6olICNHIEg              san-diego-pier-cafe-san-diego   \n",
       "999  D3RkEG1FblpTWbr7AnGCuA  palominos-mexican-and-seafood-san-diego-2   \n",
       "\n",
       "                            name  \\\n",
       "995                   Beaumont's   \n",
       "996                El Pollo Loco   \n",
       "997         Barefoot Bar & Grill   \n",
       "998          San Diego Pier Cafe   \n",
       "999  Palominos Mexican & Seafood   \n",
       "\n",
       "                                             image_url  is_closed  \\\n",
       "995  https://s3-media2.fl.yelpcdn.com/bphoto/X21oO0...      False   \n",
       "996  https://s3-media2.fl.yelpcdn.com/bphoto/64Pu4U...      False   \n",
       "997  https://s3-media4.fl.yelpcdn.com/bphoto/4uTm_c...      False   \n",
       "998  https://s3-media3.fl.yelpcdn.com/bphoto/xhEt2d...      False   \n",
       "999  https://s3-media3.fl.yelpcdn.com/bphoto/VHBfi8...      False   \n",
       "\n",
       "                                                   url  review_count  \\\n",
       "995  https://www.yelp.com/biz/beaumonts-la-jolla-2?...           719   \n",
       "996  https://www.yelp.com/biz/el-pollo-loco-san-die...           105   \n",
       "997  https://www.yelp.com/biz/barefoot-bar-and-gril...           704   \n",
       "998  https://www.yelp.com/biz/san-diego-pier-cafe-s...           850   \n",
       "999  https://www.yelp.com/biz/palominos-mexican-and...           264   \n",
       "\n",
       "                                            categories  rating  \\\n",
       "995  [{'alias': 'bars', 'title': 'Bars'}, {'alias':...     4.0   \n",
       "996  [{'alias': 'mexican', 'title': 'Mexican'}, {'a...     3.0   \n",
       "997  [{'alias': 'newamerican', 'title': 'American (...     3.5   \n",
       "998  [{'alias': 'seafood', 'title': 'Seafood'}, {'a...     3.0   \n",
       "999  [{'alias': 'mexican', 'title': 'Mexican'}, {'a...     3.5   \n",
       "\n",
       "                                           coordinates        transactions  \\\n",
       "995    {'latitude': 32.81503, 'longitude': -117.27065}          [delivery]   \n",
       "996  {'latitude': 32.76997834510157, 'longitude': -...          [delivery]   \n",
       "997  {'latitude': 32.7741342997751, 'longitude': -1...  [delivery, pickup]   \n",
       "998  {'latitude': 32.7112551, 'longitude': -117.170...          [delivery]   \n",
       "999  {'latitude': 32.830780507853056, 'longitude': ...          [delivery]   \n",
       "\n",
       "    price                                           location         phone  \\\n",
       "995    $$  {'address1': '5662 La Jolla Blvd', 'address2':...  +18584590474   \n",
       "996     $  {'address1': '2017 Camino Del Este', 'address2...  +16196881189   \n",
       "997    $$  {'address1': '1404 Vacation Rd', 'address2': '...  +18585815960   \n",
       "998    $$  {'address1': '885 W Harbor Dr', 'address2': ''...  +16192393968   \n",
       "999     $  {'address1': '9353 Clairemont Mesa Blvd', 'add...  +18582928470   \n",
       "\n",
       "      display_phone      distance  \n",
       "995  (858) 459-0474  12169.155575  \n",
       "996  (619) 688-1189   3743.852801  \n",
       "997  (858) 581-5960   7299.931004  \n",
       "998  (619) 239-3968   4049.464766  \n",
       "999  (858) 292-8470  10286.474158  "
      ]
     },
     "metadata": {},
     "output_type": "display_data"
    }
   ],
   "source": [
    "final_df = pd.read_json(JSON_FILE)\n",
    "display(final_df.head(), final_df.tail())"
   ]
  },
  {
   "cell_type": "code",
   "execution_count": 34,
   "id": "0719acd2",
   "metadata": {},
   "outputs": [
    {
     "data": {
      "text/plain": [
       "3"
      ]
     },
     "execution_count": 34,
     "metadata": {},
     "output_type": "execute_result"
    }
   ],
   "source": [
    "final_df.duplicated(subset='id').sum()"
   ]
  },
  {
   "cell_type": "code",
   "execution_count": 35,
   "id": "bc001c8e",
   "metadata": {},
   "outputs": [],
   "source": [
    "final_df.to_csv('Data/final_results_crab_cakes.csv.gz', compression='gzip',index=False)"
   ]
  },
  {
   "cell_type": "code",
   "execution_count": null,
   "id": "d3ba5b08",
   "metadata": {},
   "outputs": [],
   "source": []
  }
 ],
 "metadata": {
  "kernelspec": {
   "display_name": "Python (dojo-env)",
   "language": "python",
   "name": "dojo-env"
  },
  "language_info": {
   "codemirror_mode": {
    "name": "ipython",
    "version": 3
   },
   "file_extension": ".py",
   "mimetype": "text/x-python",
   "name": "python",
   "nbconvert_exporter": "python",
   "pygments_lexer": "ipython3",
   "version": "3.7.12"
  },
  "toc": {
   "base_numbering": 1,
   "nav_menu": {},
   "number_sections": false,
   "sideBar": true,
   "skip_h1_title": false,
   "title_cell": "Table of Contents",
   "title_sidebar": "Contents",
   "toc_cell": false,
   "toc_position": {},
   "toc_section_display": true,
   "toc_window_display": false
  }
 },
 "nbformat": 4,
 "nbformat_minor": 5
}
